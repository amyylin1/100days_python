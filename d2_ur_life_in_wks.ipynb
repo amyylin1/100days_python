{
 "cells": [
  {
   "cell_type": "markdown",
   "metadata": {},
   "source": [
    "This exercise is inspired by Tim Urban - Your Life in Weeks and realised just how little time we actually have.\n",
    "\n",
    "https://waitbutwhy.com/2014/05/life-weeks.html\n",
    "\n",
    "The truth is that the average life expectancy of men is 76, and for women is 81.  For the last decay of human life, we are typically plagued with sickness and ill-health.  We may not be as productive as we want.  "
   ]
  },
  {
   "cell_type": "code",
   "execution_count": 1,
   "metadata": {},
   "outputs": [],
   "source": [
    "age = input('what is your current age? ')\n",
    "age = int(age)\n"
   ]
  },
  {
   "cell_type": "markdown",
   "metadata": {},
   "source": [
    "- what if we live to age 90?"
   ]
  },
  {
   "cell_type": "code",
   "execution_count": 3,
   "metadata": {},
   "outputs": [
    {
     "name": "stdout",
     "output_type": "stream",
     "text": [
      "You have 14600 days, 2080 weeks, and 480 months left.\n"
     ]
    }
   ],
   "source": [
    "time_left = 90 - age\n",
    "\n",
    "day = time_left*365\n",
    "week = time_left*52\n",
    "mo = time_left*12\n",
    "\n",
    "print(f'You have {day} days, {week} weeks, and {mo} months left.')\n",
    "\n"
   ]
  },
  {
   "cell_type": "markdown",
   "metadata": {},
   "source": [
    "- what if we live to 80? "
   ]
  },
  {
   "cell_type": "code",
   "execution_count": 4,
   "metadata": {},
   "outputs": [
    {
     "name": "stdout",
     "output_type": "stream",
     "text": [
      "You have 14600 days, 2080 weeks, and 480 months left.\n"
     ]
    }
   ],
   "source": [
    "time_left = 80 - age\n",
    "\n",
    "day = time_left*365\n",
    "week = time_left*52\n",
    "mo = time_left*12\n",
    "\n",
    "print(f'You have {day} days, {week} weeks, and {mo} months left.')\n",
    "\n"
   ]
  }
 ],
 "metadata": {
  "kernelspec": {
   "display_name": "pythondata",
   "language": "python",
   "name": "python3"
  },
  "language_info": {
   "codemirror_mode": {
    "name": "ipython",
    "version": 3
   },
   "file_extension": ".py",
   "mimetype": "text/x-python",
   "name": "python",
   "nbconvert_exporter": "python",
   "pygments_lexer": "ipython3",
   "version": "3.9.12"
  },
  "orig_nbformat": 4
 },
 "nbformat": 4,
 "nbformat_minor": 2
}
